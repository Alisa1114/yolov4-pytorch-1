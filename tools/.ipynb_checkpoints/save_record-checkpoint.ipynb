{
 "cells": [
  {
   "cell_type": "code",
   "execution_count": 10,
   "id": "3c82bb61-87a7-41b6-807f-c0c21019526d",
   "metadata": {},
   "outputs": [],
   "source": [
    "import pandas as pd\n",
    "import time\n",
    "import csv\n",
    "\n",
    "def save_record(count):\n",
    "    # count.shape = (1, 2)\n",
    "    # 裡面個別紀錄有穿和沒穿的數量\n",
    "    # count[0][0]為有穿的數量，count[0][1]為沒穿的數量\n",
    "    #record = pd.read_csv('record.csv')\n",
    "    date_record = str(time.strftime(\"%Y-%m-%d\", time.localtime()))\n",
    "    time_record = str(time.strftime(\"%H:%M:%S\", time.localtime()))\n",
    "    total_num = count.sum()\n",
    "    \n",
    "    with open('record.csv', 'a', newline='') as csvfile:\n",
    "        writer = csv.writer(csvfile)\n",
    "        writer.writerow([date_record, time_record, total_num, count[0][0], count[0][1]])\n",
    "    "
   ]
  },
  {
   "cell_type": "code",
   "execution_count": 11,
   "id": "39a1afcc-7d76-4447-a0d7-bb3a925fc9e8",
   "metadata": {},
   "outputs": [
    {
     "data": {
      "text/html": [
       "<div>\n",
       "<style scoped>\n",
       "    .dataframe tbody tr th:only-of-type {\n",
       "        vertical-align: middle;\n",
       "    }\n",
       "\n",
       "    .dataframe tbody tr th {\n",
       "        vertical-align: top;\n",
       "    }\n",
       "\n",
       "    .dataframe thead th {\n",
       "        text-align: right;\n",
       "    }\n",
       "</style>\n",
       "<table border=\"1\" class=\"dataframe\">\n",
       "  <thead>\n",
       "    <tr style=\"text-align: right;\">\n",
       "      <th></th>\n",
       "      <th>Date</th>\n",
       "      <th>Time</th>\n",
       "      <th>Total number of people</th>\n",
       "      <th>Number of Wear</th>\n",
       "      <th>Number of NotWear</th>\n",
       "    </tr>\n",
       "  </thead>\n",
       "  <tbody>\n",
       "  </tbody>\n",
       "</table>\n",
       "</div>"
      ],
      "text/plain": [
       "Empty DataFrame\n",
       "Columns: [Date, Time, Total number of people, Number of Wear, Number of NotWear]\n",
       "Index: []"
      ]
     },
     "execution_count": 11,
     "metadata": {},
     "output_type": "execute_result"
    }
   ],
   "source": [
    "import numpy as np\n",
    "count = np.array([[12, 34]])\n",
    "save_record(count)\n",
    "record = pd.read_csv('record.csv')\n",
    "record"
   ]
  },
  {
   "cell_type": "code",
   "execution_count": null,
   "id": "48b57006-95ec-4071-a1e6-cf914f99b3c3",
   "metadata": {},
   "outputs": [],
   "source": []
  }
 ],
 "metadata": {
  "kernelspec": {
   "display_name": "Python 3",
   "language": "python",
   "name": "python3"
  },
  "language_info": {
   "codemirror_mode": {
    "name": "ipython",
    "version": 3
   },
   "file_extension": ".py",
   "mimetype": "text/x-python",
   "name": "python",
   "nbconvert_exporter": "python",
   "pygments_lexer": "ipython3",
   "version": "3.8.10"
  }
 },
 "nbformat": 4,
 "nbformat_minor": 5
}
